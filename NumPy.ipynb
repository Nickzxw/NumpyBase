{
 "cells": [
  {
   "cell_type": "markdown",
   "metadata": {},
   "source": [
    "### <center>数值计算库NumPy基本使用语法</center>"
   ]
  },
  {
   "cell_type": "markdown",
   "metadata": {},
   "source": [
    "**Jupyter Notebook简介**\n",
    "\n",
    "1.cell type:\n",
    "markdown 用于写笔记，有一定语法 https://www.jianshu.com/p/576e3f1049f8 可以参考\n",
    "code： 用于写python代码来执行\n",
    "\n",
    "2.code cell\n",
    "选中一个cell 点运行\n",
    "清除cell运行结果    cell->current outputs->clear  cell-> all outputs ->clear\n",
    "\n",
    "\n",
    "\n",
    "2.可以新建一个notebook\n",
    "File->new notebookj\n",
    "\n",
    "3.打印\n",
    "File->print preview\n",
    "或 download as  html"
   ]
  },
  {
   "cell_type": "markdown",
   "metadata": {},
   "source": [
    "### 1.什么是NumPy？\n",
    "\n",
    "NumPy(Numerical Python) 是 Python 语言的一个扩展程序库，支持大规模的**维度数组与矩阵运算**，此外也针对数组运算提供大量的数学函数库。\n",
    "\n",
    "- 数组矩阵是科学计算、机器学习的基础。  NumPy操作简单，避免写大量循环\n",
    "\n",
    "- 底层基于c语言编写，性能好\n",
    "\n",
    "- 适合存储计算图像、音频、视频等数据\n",
    "\n",
    "- 是后续Pandas、scipy等的基础\n",
    "\n",
    "NumPy的官方文档：\n",
    "https://docs.scipy.org/doc/numpy/reference/\n"
   ]
  },
  {
   "cell_type": "markdown",
   "metadata": {},
   "source": [
    "NumPy 通常与 SciPy（Scientific Python）和 Matplotlib（绘图库）一起使用， 这种组合广泛用于**替代 MatLab**，是一个强大的科学计算环境，有助于我们通过 Python 学习数据科学或者机器学习。\n",
    "\n",
    "SciPy 是一个开源的 Python 算法库和数学工具包。SciPy 包含的模块有最优化、线性代数、积分、插值、特殊函数、快速傅里叶变换、信号处理和图像处理、常微分方程求解和其他科学与工程中常用的计算。\n",
    "\n",
    "Matplotlib 是 Python 编程语言及其数值数学扩展包 NumPy 的可视化操作界面。它为利用通用的图形用户界面工具包，如 Tkinter, wxPython, Qt 或 GTK+ 向应用程序嵌入式绘图提供了应用程序接口（API）。"
   ]
  },
  {
   "cell_type": "markdown",
   "metadata": {},
   "source": [
    "**本课程重点介绍和数据存储计算相关功能，不介绍SciPy处理高等数学相关内容**"
   ]
  },
  {
   "cell_type": "markdown",
   "metadata": {},
   "source": [
    "### 2.如何创建数组？\n",
    "\n",
    "- ndarray：  多维数据数据结构，一种新的数据类型\n",
    "- ufunc： 提供了配套的很多函数"
   ]
  },
  {
   "cell_type": "code",
   "execution_count": null,
   "metadata": {},
   "outputs": [],
   "source": [
    "#导入numpy包，这样才能使用它提供的对象和函数，按惯例大家命名为 简写的 np\n",
    "import numpy as np  "
   ]
  },
  {
   "cell_type": "markdown",
   "metadata": {},
   "source": [
    "#### 使用list创建数据组ndarray"
   ]
  },
  {
   "cell_type": "code",
   "execution_count": null,
   "metadata": {},
   "outputs": [],
   "source": [
    "# 使用Python list数据初始化一个 ndarray\n",
    "a=np.array([1,2,3])\n",
    "\n",
    "print(a) # a变量就是 numpy的数据对象， ndarray； print表示打印输出到屏幕\n",
    "a #一个 code类型的cell 最后一行 放一个变量名\n"
   ]
  },
  {
   "cell_type": "code",
   "execution_count": null,
   "metadata": {},
   "outputs": [],
   "source": [
    "a=np.array([1,2,'3aaade'])  #ndarray里数据需要为统一类型，为自动转换；  list里不要求\n",
    "a"
   ]
  },
  {
   "cell_type": "code",
   "execution_count": null,
   "metadata": {},
   "outputs": [],
   "source": [
    "a=np.array([1,2,3.3]) #都自动转换为float类型\n",
    "a"
   ]
  },
  {
   "cell_type": "markdown",
   "metadata": {},
   "source": [
    "#### 使用arange函数\n",
    "\n",
    "为了创建列表，NumPy提供了和 ```Python range``` 类似的函数，通过指定开始值、终值和步长来创建一维数组，注意数组不包括终值。\n",
    "```py\n",
    "np.arange(start,end,step)\n",
    "a=np.arange(10,30,5)\n",
    "b=np.arange(0,2,0.3)#同样可以接收浮点数\n",
    "```\n",
    "arange函数可以看做是range函数的数组版，能生成一个一维数组，然后可以用reshape函数将一维数组改变成想要的形状，原数组的shape保持不变。\n",
    "```py\n",
    "b = a.reshape(5, -1)\n",
    "```"
   ]
  },
  {
   "cell_type": "code",
   "execution_count": null,
   "metadata": {},
   "outputs": [],
   "source": [
    "a = np.arange(1, 100,2)    #步长为2 \n",
    "print(a )\n",
    "b = np.arange(0, 3, 0.3)\n",
    "print(b)\n"
   ]
  },
  {
   "cell_type": "code",
   "execution_count": null,
   "metadata": {},
   "outputs": [],
   "source": [
    "#修改数组形状shape\n",
    "b = b.reshape(2 , -1)    #   -1表示 对a重组，为5行，列的数目自动计算即10/5=2\n",
    "print(b)"
   ]
  },
  {
   "cell_type": "markdown",
   "metadata": {},
   "source": [
    "### 3.如何访问数组里数据？\n",
    "\n",
    "数组元素的存取方法和Python中字符串和list的标准方法相同，请参考Python编程基础课程字符串部分内容\n",
    "\n",
    "切片操作：ndarray[start:end:step] 从start这个位置开始，到end-1 截止， 每次跳step步"
   ]
  },
  {
   "cell_type": "code",
   "execution_count": null,
   "metadata": {},
   "outputs": [],
   "source": [
    "a = np.arange(10)  #string 切片操作一样； python  list 的切片\n",
    "a"
   ]
  },
  {
   "cell_type": "code",
   "execution_count": null,
   "metadata": {},
   "outputs": [],
   "source": [
    "a = np.arange(10)\n",
    "a[5] # 用整数作为下标可以获取数组中的某个元素\n",
    "a[3:5] # 用范围作为下标获取数组的一个切片，包括a[3]不包括a[5]\n",
    "a[:5] # 省略开始下标，表示从a[0]开始\n",
    "a[:-1] # 下标可以使用负数，表示从数组后往前数\n",
    "a[2:4] = 100,101 # 下标还可以用来修改元素的值\n",
    "a[1:-1:2] # 范围中的第三个参数表示步长，2表示隔一个元素取一个元素\n",
    "a[::-1] # 省略范围的开始下标和结束下标，步长为-1，整个数组头尾颠倒\n",
    "a[5:1:-2] # 步长为负数时，开始下标必须大于结束下标"
   ]
  },
  {
   "cell_type": "code",
   "execution_count": null,
   "metadata": {},
   "outputs": [],
   "source": [
    "a[3:5]"
   ]
  },
  {
   "cell_type": "markdown",
   "metadata": {},
   "source": [
    "### 4.数组的运算\n",
    "\n"
   ]
  },
  {
   "cell_type": "markdown",
   "metadata": {},
   "source": [
    "构造数组\n",
    "![Data Layout](img/data.png)\n",
    "\n",
    "加法： 实现对应位置上的数据相加的操作（即每行数据进行相加），这种操作比循环读取数组的方法代码实现更加简洁。\n",
    "![Data Layout](img/jiafa.png)\n",
    "![Data Layout](img/jianfa.jpeg)"
   ]
  },
  {
   "cell_type": "code",
   "execution_count": null,
   "metadata": {},
   "outputs": [],
   "source": [
    "data=np.array([1,2])\n",
    "data"
   ]
  },
  {
   "cell_type": "code",
   "execution_count": null,
   "metadata": {},
   "outputs": [],
   "source": [
    "ones=np.ones(2)\n",
    "ones"
   ]
  },
  {
   "cell_type": "code",
   "execution_count": null,
   "metadata": {},
   "outputs": [],
   "source": [
    "data+ones"
   ]
  },
  {
   "cell_type": "code",
   "execution_count": null,
   "metadata": {},
   "outputs": [],
   "source": [
    "data-ones"
   ]
  },
  {
   "cell_type": "markdown",
   "metadata": {},
   "source": [
    "### 5.多维数组\n",
    "\n",
    "多维数组的存取和一维数组类似，因为多维数组有多个轴，因此它的下标需要用多个值来表示"
   ]
  },
  {
   "cell_type": "code",
   "execution_count": null,
   "metadata": {},
   "outputs": [],
   "source": [
    "c=np.array([[1,2,3],[4,5,6]]) #使用列表list创建二维数组\n",
    "c\n"
   ]
  },
  {
   "cell_type": "code",
   "execution_count": null,
   "metadata": {},
   "outputs": [],
   "source": [
    "c.ndim #维数"
   ]
  },
  {
   "cell_type": "code",
   "execution_count": null,
   "metadata": {},
   "outputs": [],
   "source": [
    "c.size #元素个数"
   ]
  },
  {
   "cell_type": "code",
   "execution_count": null,
   "metadata": {},
   "outputs": [],
   "source": [
    "c.shape"
   ]
  },
  {
   "cell_type": "code",
   "execution_count": null,
   "metadata": {},
   "outputs": [],
   "source": [
    "duowei = np.arange(0, 60).reshape(6,10)\n",
    "duowei"
   ]
  },
  {
   "cell_type": "code",
   "execution_count": null,
   "metadata": {},
   "outputs": [],
   "source": [
    "duowei[1:3, 3:5]"
   ]
  },
  {
   "cell_type": "markdown",
   "metadata": {},
   "source": [
    "### 6. 随机数"
   ]
  },
  {
   "cell_type": "code",
   "execution_count": null,
   "metadata": {},
   "outputs": [],
   "source": [
    "np.random.seed(10) #设定一个seed，确保随机序列不变\n",
    "\n",
    "a=np.random.rand(3,4)      #创建指定为3行4列的数组(范围在0至1之间)\n",
    "print(\"创建指定为3行4列)的数组：\\n\",a)   #\\n 表示换行\n",
    "\n",
    "\n",
    "#从一个均匀分布[low,high)中随机采样，注意定义域是左闭右开，即包含low，不包含high\n",
    "b=np.random.uniform(0,100) #创建指定范围内的一个数\n",
    "print(\"创建指定范围内的一个数：%.2f\" %b) #%.2f 表示结果保留2位小数\n",
    "\n",
    "\n",
    "#返回一个随机整型数，范围从低（包括）到高（不包括），即[low, high)\n",
    "c=np.random.randint(0,100) #创建指定范围内的一个整数\n",
    "print(\"创建指定范围内的一个整数：\",c)\n"
   ]
  },
  {
   "cell_type": "code",
   "execution_count": null,
   "metadata": {},
   "outputs": [],
   "source": [
    "#正态分布生成3行4列的二维数组\n",
    "a= np.random.normal(1.5, 3, (3, 4))  #均值为1.5，标准差为3\n",
    "print(a)\n",
    "# 截取第1至2行的第2至3列(从第0行、0列算起算起)\n",
    "b = a[1:3, 2:4]\n",
    "print(\"截取第1至2行的第2至3列: \\n\",b)\n"
   ]
  },
  {
   "cell_type": "markdown",
   "metadata": {},
   "source": [
    "### 7. NumPy统计类运算"
   ]
  },
  {
   "cell_type": "code",
   "execution_count": null,
   "metadata": {},
   "outputs": [],
   "source": [
    "a=np.arange(20).reshape(4,5)\n",
    "print(\"原数组a:\\n\",a)\n",
    "print(\"a全部元素和: \", a.sum())\n",
    "print(\"a的最大值: \", a.max())\n",
    "print(\"a的最小值: \", a.min())\n",
    "print(\"a每行的最大值: \", a.max(axis=1))  #axis=1代表行\n",
    "print(\"a每列的最大值: \", a.min(axis=0))  #axis=0代表列\n",
    "print(\"a每行元素的求和: \", a.sum(axis=1)) \n",
    "print(\"a每行元素的均值：\",np.mean(a,axis=1))\n",
    "print(\"a每行元素的标准差：\",np.std(a,axis=1))"
   ]
  },
  {
   "cell_type": "markdown",
   "metadata": {},
   "source": [
    "### 8. 矩阵运算"
   ]
  },
  {
   "cell_type": "code",
   "execution_count": null,
   "metadata": {},
   "outputs": [],
   "source": [
    "A = np.array([[0,1], [1,2]])  #数组\n",
    "B = np.array([[2,5],[3,4]])   #数组\n",
    "print(\"对应元素相乘：\\n\",A*B)\n",
    "print(\"矩阵点乘：\\n\",A.dot(B))\n",
    "print(\"矩阵点乘：\\n\",np.dot(A,B))  #(M行, N列) * (N行, Z列) = (M行, Z列)\n",
    "print(\"横向相加：\\n\",np.hstack((A,B)))\n",
    "print(\"纵向相加：\\n\",np.vstack((A,B)))"
   ]
  },
  {
   "cell_type": "code",
   "execution_count": null,
   "metadata": {},
   "outputs": [],
   "source": []
  },
  {
   "cell_type": "markdown",
   "metadata": {},
   "source": [
    "### 9.NumPy提供的数组的函数ufunc\n",
    "\n",
    "ufunc是universal function的缩写，它是一种能对数组的每个元素进行操作的函数。许多ufunc函数都是在C语言级别实现的，因此它们的计算速度非常快。"
   ]
  },
  {
   "cell_type": "markdown",
   "metadata": {},
   "source": [
    "**一元ufunc**  ：数学运算\n",
    "* ceil(x): 向上最接近的整数，参数是 number 或 array\n",
    "* floor(x): 向下最接近的整数，参数是 number 或 array\n",
    "* rint(x): 四舍五入，参数是 number 或 array\n",
    "* negative(x): 元素取反，参数是 number 或 array\n",
    "* abs(x)：元素的绝对值，参数是 number 或 array\n",
    "* square(x)：元素的平方，参数是 number 或 array\n",
    "* aqrt(x)：元素的平方根，参数是 number 或 array\n",
    "* sign(x)：计算各元素的正负号, 1(正数)、0（零）、-1(负数)，参数是 number 或 array\n",
    "* modf(x)：将数组的小数和整数部分以两个独立数组的形式返回，参数是 number 或 array\n",
    "* isnan(x): 判断元素是否为 NaN(Not a Number)，返回bool，参数是 number 或 array\n"
   ]
  },
  {
   "cell_type": "code",
   "execution_count": null,
   "metadata": {},
   "outputs": [],
   "source": [
    "x=np.array([1.1,2.2,3]) \n",
    "np.square(x)  #一元ufunc调用实例"
   ]
  },
  {
   "cell_type": "markdown",
   "metadata": {},
   "source": [
    "**二元ufunc**  ：数组的四则运算与比较运算\n",
    "* add(x, y): 元素相加，x + y，参数是 number 或 array\n",
    "* subtract(x, y): 元素相减，x – y，参数是 number 或 array\n",
    "* multiply(x, y): 元素相乘，x * y，参数是 number 或 array\n",
    "* divide(x, y): 元素相除，x / y，参数是 number 或 array\n",
    "* floor_divide(x, y): 元素相除取整数商(丢弃余数)，x // y，参数是 number 或 array\n",
    "* mod(x, y): 元素求余数，x % y，参数是 number 或 array\n",
    "* power(x, y): 元素求次方，x ** y，参数是 number 或 array\n",
    "* equal(x1, x2 [, y]) : y = x1 == x2 \n",
    "* not_equal(x1, x2 [, y]) : y = x1 != x2 \n",
    "* less(x1, x2, [, y]) : y = x1 < x2 \n",
    "* less_equal(x1, x2, [, y]) : y = x1 <= x2 \n",
    "* greater(x1, x2, [, y]) : y = x1 > x2 \n",
    "* greater_equal(x1, x2, [, y]) : y = x1 >= x2 \n"
   ]
  },
  {
   "cell_type": "markdown",
   "metadata": {},
   "source": [
    "### 10.NumPy提供了其他的函数库\n",
    "\n",
    "函数库不是只针对ndarray数组，是一些通用的函数，对int ，float也可以使用"
   ]
  },
  {
   "cell_type": "markdown",
   "metadata": {},
   "source": [
    "**比较运算**\n",
    "* allclose(a, b[, rtol, atol, equal_nan]) 如果两个数组在容差范围内在元素方面相等，则返回True。\n",
    "* isclose(a, b[, rtol, atol, equal_nan]) 返回一个布尔数组，其中两个数组在容差范围内是元素相等的。\n",
    "* array_equal(a1, a2) 如果两个数组具有相同的形状和元素，则为真，否则为False。\n",
    "* array_equiv(a1, a2) 如果输入数组的形状一致且所有元素相等，则返回True。\n",
    "* greater(x1, x2, /[, out, where, casting, …]) 逐个元素方式返回（x1> x2）的真值。\n",
    "* greater_equal(x1, x2, /[, out, where, …]) 逐个元素方式返回（x1> = x2）的真值。\n",
    "* less(x1, x2, /[, out, where, casting, …]) 逐个元素方式返回\n",
    "* less_equal(x1, x2, /[, out, where, casting, …]) 逐个元素方式返回\n",
    "* equal(x1, x2, /[, out, where, casting, …]) 逐个元素返回（x1 == x2）。\n",
    "* not_equal(x1, x2, /[, out, where, casting, …]) 逐个元素返回 Return (x1 != x2)。\n",
    "\n",
    "**三角函数**\n",
    "* sin(x, /[, out, where, casting, order, …]) 逐个元素运算三角正弦函数。\n",
    "* cos(x, /[, out, where, casting, order, …]) 逐个元素运算三角余弦函数。\n",
    "* tan(x, /[, out, where, casting, order, …]) 逐个元素运算三角正切函数。\n",
    "* arcsin(x, /[, out, where, casting, order, …]) 逐个元素运算三角反正弦函数。\n",
    "* arccos(x, /[, out, where, casting, order, …]) 逐个元素运算三角反余弦函数。\n",
    "* arctan(x, /[, out, where, casting, order, …]) 逐个元素运算三角反正切函数。\n",
    "* hypot(x1, x2, /[, out, where, casting, …]) 给定直角三角形的“腿”，返回它的斜边。\n",
    "* arctan2(x1, x2, /[, out, where, casting, …]) 元素弧切线x1/x2正确选择象限。\n",
    "* degrees(x, /[, out, where, casting, order, …]) 将角度从弧度转换为度数。\n",
    "* radians(x, /[, out, where, casting, order, …]) 将角度从度数转换为弧度。\n",
    "* unwrap(p[, discont, axis]) 通过将值之间的差值更改为2*pi补码来展开。\n",
    "* deg2rad(x, /[, out, where, casting, order, …]) 将角度从度数转换为弧度。\n",
    "* rad2deg(x, /[, out, where, casting, order, …]) 将角度从弧度转换为度数。\n",
    "\n",
    "**求总和, 求乘积, 求差异**\n",
    "* prod(a[, axis, dtype, out, keepdims]) 返回给定轴上的数组元素的乘积。\n",
    "* sum(a[, axis, dtype, out, keepdims]) 给定轴上的数组元素的总和。\n",
    "* nanprod(a[, axis, dtype, out, keepdims]) 返回给定轴上的数组元素的乘积。\n",
    "* nansum(a[, axis, dtype, out, keepdims]) 返回给定轴上的数组元素的总和。\n",
    "* cumprod(a[, axis, dtype, out]) 返回给定轴上元素的累积乘积。\n",
    "* cumsum(a[, axis, dtype, out]) 返回给定轴上元素的累积和。\n",
    "* nancumprod(a[, axis, dtype, out]) 返回给定轴上的数组元素的累积乘积\n",
    "* nancumsum(a[, axis, dtype, out]) 返回给定轴上的数组元素的累积和。\n",
    "* diff(a[, n, axis]) 计算沿给定轴的第n个离散差。\n",
    "* ediff1d(ary[, to_end, to_begin]) 数组的连续元素之间的差异。\n",
    "* gradient(f, varargs, *kwargs) 返回N维数组的渐变。\n",
    "* cross(a, b[, axisa, axisb, axisc, axis]) 返回两个（数组）向量的叉积。\n",
    "* trapz(y[, x, dx, axis]) 沿给定的轴积分使用复合梯形规则运算。\n",
    "\n",
    "**平均数和差异**\n",
    "* median(a[, axis, out, overwrite_input, keepdims]) 沿指定轴计算中值。\n",
    "* average(a[, axis, weights, returned]) 计算沿指定轴的加权平均。\n",
    "* mean(a[, axis, dtype, out, keepdims]) 沿指定的轴计算算术平均值。\n",
    "* std(a[, axis, dtype, out, ddof, keepdims]) 计算沿指定轴的标准偏差。\n",
    "* var(a[, axis, dtype, out, ddof, keepdims]) 计算沿指定轴的方差。\n",
    "* nanmedian(a[, axis, out, overwrite_input, …]) 在忽略NAS的情况下，沿指定的轴计算中值。\n",
    "* nanmean(a[, axis, dtype, out, keepdims]) 计算沿指定轴的算术平均值，忽略NAS。\n",
    "* nanstd(a[, axis, dtype, out, ddof, keepdims]) 计算指定轴上的标准偏差，而忽略NAS。\n",
    "* nanvar(a[, axis, dtype, out, ddof, keepdims]) 计算指定轴上的方差，同时忽略NAS。"
   ]
  },
  {
   "cell_type": "markdown",
   "metadata": {},
   "source": [
    "## Numpy进行图像处理小案例"
   ]
  },
  {
   "cell_type": "code",
   "execution_count": null,
   "metadata": {},
   "outputs": [],
   "source": [
    "from imageio import imread\n",
    "\n",
    "import matplotlib.pyplot as plt\n",
    "\n",
    "img = plt.imread( 'img/dog.jpg')\n",
    "\n",
    "plt.imshow(img)"
   ]
  },
  {
   "cell_type": "code",
   "execution_count": null,
   "metadata": {},
   "outputs": [],
   "source": [
    "type(img)"
   ]
  },
  {
   "cell_type": "code",
   "execution_count": null,
   "metadata": {},
   "outputs": [],
   "source": [
    "img.shape   #1000 1000分别表示图像高度与宽度的像素值， 第三个数字表示图像有红、绿、蓝三个通道( RGB channel ) "
   ]
  },
  {
   "cell_type": "code",
   "execution_count": null,
   "metadata": {},
   "outputs": [],
   "source": [
    "img[600,300,:] #一个像素点"
   ]
  },
  {
   "cell_type": "code",
   "execution_count": null,
   "metadata": {},
   "outputs": [],
   "source": [
    "img.ndim"
   ]
  },
  {
   "cell_type": "code",
   "execution_count": null,
   "metadata": {},
   "outputs": [],
   "source": [
    "plt.imshow(img[ 200:, :, :]) #200行以下"
   ]
  },
  {
   "cell_type": "code",
   "execution_count": null,
   "metadata": {},
   "outputs": [],
   "source": [
    "plt.imshow(img[ :, 200:, :])#200列右"
   ]
  },
  {
   "cell_type": "code",
   "execution_count": null,
   "metadata": {},
   "outputs": [],
   "source": [
    "img_rotate = img[ :, ::-1, :]  #每一行的值替换为 从右往左\n",
    "\n",
    "plt.imshow(img_rotate)"
   ]
  },
  {
   "cell_type": "code",
   "execution_count": null,
   "metadata": {},
   "outputs": [],
   "source": [
    "img_rotate = img[ ::-1, :, :]  #每一行都取\n",
    "\n",
    "plt.imshow(img_rotate)"
   ]
  },
  {
   "cell_type": "markdown",
   "metadata": {},
   "source": [
    "灰度图的数据可以看成是二维数组，元素取值为0 ~ 255，其中，0为黑色，255为白色。从0到255逐渐由暗色变为亮色。\n",
    "\n",
    "灰度图转换（ITU-R 601-2亮度变换）：\n",
    "\n",
    "L = R * 299 / 1000 + G * 587 / 1000 + B * 114 / 1000"
   ]
  },
  {
   "cell_type": "code",
   "execution_count": null,
   "metadata": {},
   "outputs": [],
   "source": [
    "# a# 三维的数组  最高维：高，   次高维：宽     最低维[R,G,B]\n",
    "b=np.array([0.299,0.587,0.114])\n",
    "x=np.dot(img,b)  # 将上面的RGB和b数组中的每个元素进行对位相乘，再相加，一定得到的是一个数字L\n",
    "plt.imshow(x,cmap=\"gray\") \n"
   ]
  },
  {
   "cell_type": "code",
   "execution_count": null,
   "metadata": {},
   "outputs": [],
   "source": [
    "#将图像沿重复\n",
    "t=img.copy() \n",
    "\n",
    "# 先水平方向两次，再垂直方向3次\n",
    "r1=np.concatenate((t,t),axis=1)\n",
    "r2=np.concatenate((r1,r1),axis=0)\n",
    "plt.imshow(r2)\n"
   ]
  }
 ],
 "metadata": {
  "kernelspec": {
   "display_name": "Python 3",
   "language": "python",
   "name": "python3"
  },
  "language_info": {
   "codemirror_mode": {
    "name": "ipython",
    "version": 3
   },
   "file_extension": ".py",
   "mimetype": "text/x-python",
   "name": "python",
   "nbconvert_exporter": "python",
   "pygments_lexer": "ipython3",
   "version": "3.8.8"
  }
 },
 "nbformat": 4,
 "nbformat_minor": 2
}
